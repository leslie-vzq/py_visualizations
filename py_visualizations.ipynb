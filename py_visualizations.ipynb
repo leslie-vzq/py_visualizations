{
 "cells": [
  {
   "cell_type": "code",
   "execution_count": null,
   "id": "7f5130b7-dba4-4570-b815-c6aa09329d0c",
   "metadata": {},
   "outputs": [],
   "source": [
    "# python_visualizations environment"
   ]
  },
  {
   "cell_type": "markdown",
   "id": "f5efb82a-813e-4336-accf-62364a8fbcd4",
   "metadata": {},
   "source": [
    "# Importing packages"
   ]
  },
  {
   "cell_type": "code",
   "execution_count": 9,
   "id": "755ed77a-e379-4554-9909-1643a10f7d6d",
   "metadata": {},
   "outputs": [],
   "source": [
    "import pandas as pd\n",
    "import seaborn as sns\n",
    "import matplotlib.pyplot as plt\n",
    "import numpy as np"
   ]
  },
  {
   "cell_type": "markdown",
   "id": "46165816-4f7e-4c8a-8d8b-5ab7e3864b86",
   "metadata": {},
   "source": [
    "# Loading Datasets"
   ]
  },
  {
   "cell_type": "markdown",
   "id": "62a45bed-7db9-4834-85d2-9b099e0d3448",
   "metadata": {},
   "source": [
    "## Data 1"
   ]
  },
  {
   "cell_type": "raw",
   "id": "0e28482e-6ef7-4002-831b-b8fd83907689",
   "metadata": {},
   "source": [
    "min_wage = pd.read_csv(\"minimum_wage.csv\", encoding='latin1')\n",
    "# print(min_wage.head())"
   ]
  },
  {
   "cell_type": "markdown",
   "id": "8bfa2aa5-042f-4f39-9b54-2e15a511ec87",
   "metadata": {},
   "source": [
    "## Data 2"
   ]
  },
  {
   "cell_type": "code",
   "execution_count": null,
   "id": "741561a8-b4a4-4452-97c2-28929105ec53",
   "metadata": {},
   "outputs": [],
   "source": [
    "nba = pd.read_csv(\"2021-2022 NBA Player Stats.csv\")\n",
    "# print(nba.head())"
   ]
  },
  {
   "cell_type": "markdown",
   "id": "a4ddb3d5-2562-4331-b9f4-ff1f8564e5ea",
   "metadata": {},
   "source": [
    "## Data 3"
   ]
  },
  {
   "cell_type": "code",
   "execution_count": null,
   "id": "4bc0aa82-d6fb-474f-aa46-6e4530aa39d7",
   "metadata": {},
   "outputs": [],
   "source": [
    "directory = pd.read_csv(\"directory.csv\")\n",
    "# print(directory.head())"
   ]
  },
  {
   "cell_type": "markdown",
   "id": "f9c22f0e-1184-4884-9e7e-ec6dbf0f8d38",
   "metadata": {},
   "source": [
    "## Data 4"
   ]
  },
  {
   "cell_type": "code",
   "execution_count": null,
   "id": "a4c93638-d0fa-493c-b466-2e03d3120f59",
   "metadata": {},
   "outputs": [],
   "source": [
    "housing = pd.read_csv(\"Housing.csv\")\n",
    "# print(housing.head())"
   ]
  },
  {
   "cell_type": "markdown",
   "id": "920717af-7898-4490-b53c-00cacc37369a",
   "metadata": {},
   "source": [
    "# Visualizations\n",
    "## Data 1"
   ]
  },
  {
   "cell_type": "code",
   "execution_count": null,
   "id": "fc4f488a-b976-4a14-b655-3ab85763d651",
   "metadata": {},
   "outputs": [],
   "source": [
    "# "
   ]
  }
 ],
 "metadata": {
  "kernelspec": {
   "display_name": "Python 3 (ipykernel)",
   "language": "python",
   "name": "python3"
  },
  "language_info": {
   "codemirror_mode": {
    "name": "ipython",
    "version": 3
   },
   "file_extension": ".py",
   "mimetype": "text/x-python",
   "name": "python",
   "nbconvert_exporter": "python",
   "pygments_lexer": "ipython3",
   "version": "3.10.14"
  }
 },
 "nbformat": 4,
 "nbformat_minor": 5
}
