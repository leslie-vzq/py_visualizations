{
 "cells": [
  {
   "cell_type": "code",
   "execution_count": null,
   "id": "7daf41ee-423f-46a8-9e43-bea0f55c77c6",
   "metadata": {},
   "outputs": [],
   "source": [
    "# python_visualizations environment"
   ]
  },
  {
   "cell_type": "markdown",
   "id": "ab322145-aecf-4baa-bd1e-e87245d48ecb",
   "metadata": {},
   "source": [
    "# Importing packages"
   ]
  },
  {
   "cell_type": "code",
   "execution_count": null,
   "id": "490178eb-ec05-4234-8480-ff0e4cc6f659",
   "metadata": {},
   "outputs": [],
   "source": [
    "import pandas as pd\n",
    "import seaborn as sns\n",
    "import matplotlib.pyplot as plt\n",
    "import numpy as np"
   ]
  },
  {
   "cell_type": "markdown",
   "id": "bb15cbf7-02a2-4a3d-9657-6480acb28db0",
   "metadata": {},
   "source": [
    "# Loading Datasets"
   ]
  },
  {
   "cell_type": "markdown",
   "id": "8ee9c10c-7e0e-4fd6-9f9a-d21d93ab4e82",
   "metadata": {},
   "source": [
    "## Data 1"
   ]
  },
  {
   "cell_type": "code",
   "execution_count": null,
   "id": "35f46388-4c15-4753-9595-dbed034c2c01",
   "metadata": {},
   "outputs": [],
   "source": [
    "min_wage = pd.read_csv(\"Minimum Wage Data.csv\", encoding='latin1')\n",
    "# print(min_wage.head())"
   ]
  },
  {
   "cell_type": "markdown",
   "id": "eeb478d4-ab8f-4509-845d-a774abd9c77e",
   "metadata": {},
   "source": [
    "## Data 2"
   ]
  },
  {
   "cell_type": "code",
   "execution_count": null,
   "id": "19079a39-c95e-4fab-8052-c0b9f9804e26",
   "metadata": {},
   "outputs": [],
   "source": [
    "nba = pd.read_csv(\"2021-2022 NBA Player Stats.csv\")\n",
    "# print(nba.head())"
   ]
  },
  {
   "cell_type": "markdown",
   "id": "e42877b4-aacd-432c-adbd-029d1e9e8ccc",
   "metadata": {},
   "source": [
    "## Data 3"
   ]
  },
  {
   "cell_type": "code",
   "execution_count": null,
   "id": "5cc782b7-0059-488c-bc68-23bc90c7f461",
   "metadata": {},
   "outputs": [],
   "source": [
    "directory = pd.read_csv(\"directory.csv\")\n",
    "# print(directory.head())"
   ]
  },
  {
   "cell_type": "code",
   "execution_count": null,
   "id": "5dacb51a-cd0c-45cf-b0d0-d2de93953c6d",
   "metadata": {},
   "outputs": [],
   "source": []
  }
 ],
 "metadata": {
  "kernelspec": {
   "display_name": "Python 3 (ipykernel)",
   "language": "python",
   "name": "python3"
  },
  "language_info": {
   "codemirror_mode": {
    "name": "ipython",
    "version": 3
   },
   "file_extension": ".py",
   "mimetype": "text/x-python",
   "name": "python",
   "nbconvert_exporter": "python",
   "pygments_lexer": "ipython3",
   "version": "3.10.14"
  }
 },
 "nbformat": 4,
 "nbformat_minor": 5
}
